{
 "cells": [
  {
   "cell_type": "markdown",
   "metadata": {},
   "source": [
    "# Catchup with Past Workshops\n",
    "\n",
    "This workshop will have less content than usual and is all optional so that you have a chance to catch up with previous workshops."
   ]
  },
  {
   "cell_type": "markdown",
   "metadata": {
    "collapsed": true
   },
   "source": [
    "# Embedding Part of Speech Tagging in a Web Application\n",
    "\n",
    "The lecture notes and notebooks show how you can use NLTK to implement a part of speech tagger. In this exercise you will incorporate this information in a web application.\n",
    "\n",
    "The following file is a simple web application that uses [Python's bottle framework](http://bottlepy.org/docs/dev/index.html) and NLTK to present a Web form where a person can input text. When the form is submitted, the application annotates the text with its parts of speech and shows the result to the user.\n",
    "\n",
    "* [pos.py](pos.py)"
   ]
  },
  {
   "cell_type": "markdown",
   "metadata": {},
   "source": [
    "### Exercise: Try out the web application\n",
    "\n",
    "Download the web application and run it on your computer. The terminal console will indicate a URL. Open the URL on a browser and try out the application."
   ]
  },
  {
   "cell_type": "code",
   "execution_count": null,
   "metadata": {
    "collapsed": true
   },
   "outputs": [],
   "source": []
  },
  {
   "cell_type": "markdown",
   "metadata": {},
   "source": [
    "### Exercise: Add your own PoS tagger\n",
    "\n",
    "Replace NLTK's tagger in the web application with an implementation of your own tagger. You may use, for example, the PoS tagger you designed during the exercises of last week's workshop.\n",
    "\n",
    "Remember that you only need to train the tagger once, and then you can use the trained model each time the user sends text with the form."
   ]
  },
  {
   "cell_type": "code",
   "execution_count": null,
   "metadata": {
    "collapsed": true
   },
   "outputs": [],
   "source": []
  },
  {
   "cell_type": "markdown",
   "metadata": {},
   "source": [
    "# Classification for Named Entity Recognition\n",
    "\n",
    "In last week's workshop you defined a classification-based NE recogniser that uses Naive Bayes trained on a few features defined in the lectures. If you haven't done so, please complete the exercise."
   ]
  },
  {
   "cell_type": "markdown",
   "metadata": {},
   "source": [
    "Now, experiment with the following extensions.\n",
    "\n",
    "1. After conducting your error analysis by looking at the false positives and false negatives, implement additional features that would aim to reduce classification errors. Look, for example, at the features for Named Entity Recognitino listed on the lectures.\n",
    "2. Use the sklearn multinomial Naive Bayes and compare results.\n",
    "3. Try with other classifiers, such as KNN, NLTK's [MaxEnt classifier](http://www.nltk.org/_modules/nltk/classify/maxent.html) and sklearn's [logistic regression classifier](http://scikit-learn.org/stable/modules/generated/sklearn.linear_model.LogisticRegression.html). These classifiers are more powerful than Naive Bayes and scale well to large feature sets. Read, for example, the [NLTK book section](http://www.nltk.org/book/ch06.html#maximum-entropy-classifiers) and [sklearn's documentation on logistic regression](http://scikit-learn.org/stable/modules/linear_model.html#logistic-regression) for further information on how these work."
   ]
  },
  {
   "cell_type": "code",
   "execution_count": null,
   "metadata": {
    "collapsed": true
   },
   "outputs": [],
   "source": []
  }
 ],
 "metadata": {
  "kernelspec": {
   "display_name": "Python 3",
   "language": "python",
   "name": "python3"
  },
  "language_info": {
   "codemirror_mode": {
    "name": "ipython",
    "version": 3
   },
   "file_extension": ".py",
   "mimetype": "text/x-python",
   "name": "python",
   "nbconvert_exporter": "python",
   "pygments_lexer": "ipython3",
   "version": "3.6.0"
  }
 },
 "nbformat": 4,
 "nbformat_minor": 0
}
