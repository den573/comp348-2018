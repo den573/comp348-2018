{
 "cells": [
  {
   "cell_type": "code",
   "execution_count": 1,
   "metadata": {
    "collapsed": true
   },
   "outputs": [],
   "source": [
    "import nltk"
   ]
  },
  {
   "cell_type": "code",
   "execution_count": 2,
   "metadata": {
    "collapsed": false
   },
   "outputs": [
    {
     "name": "stdout",
     "output_type": "stream",
     "text": [
      "[nltk_data] Downloading package conll2002 to /root/nltk_data...\n",
      "[nltk_data]   Unzipping corpora/conll2002.zip.\n"
     ]
    }
   ],
   "source": [
    "nltk.download(\"conll2002\")\n",
    "from nltk.corpus import conll2002"
   ]
  },
  {
   "cell_type": "code",
   "execution_count": 3,
   "metadata": {
    "collapsed": false
   },
   "outputs": [
    {
     "data": {
      "text/plain": [
       "['esp.testa', 'esp.testb', 'esp.train', 'ned.testa', 'ned.testb', 'ned.train']"
      ]
     },
     "execution_count": 3,
     "metadata": {},
     "output_type": "execute_result"
    }
   ],
   "source": [
    "conll2002.fileids()"
   ]
  },
  {
   "cell_type": "code",
   "execution_count": 4,
   "metadata": {
    "collapsed": true
   },
   "outputs": [],
   "source": [
    "tagged = conll2002.iob_sents()"
   ]
  },
  {
   "cell_type": "code",
   "execution_count": 5,
   "metadata": {
    "collapsed": false
   },
   "outputs": [
    {
     "data": {
      "text/plain": [
       "[('Sao', 'NC', 'B-LOC'),\n",
       " ('Paulo', 'VMI', 'I-LOC'),\n",
       " ('(', 'Fpa', 'O'),\n",
       " ('Brasil', 'NC', 'B-LOC'),\n",
       " (')', 'Fpt', 'O'),\n",
       " (',', 'Fc', 'O'),\n",
       " ('23', 'Z', 'O'),\n",
       " ('may', 'NC', 'O'),\n",
       " ('(', 'Fpa', 'O'),\n",
       " ('EFECOM', 'NP', 'B-ORG'),\n",
       " (')', 'Fpt', 'O'),\n",
       " ('.', 'Fp', 'O')]"
      ]
     },
     "execution_count": 5,
     "metadata": {},
     "output_type": "execute_result"
    }
   ],
   "source": [
    "tagged[0]"
   ]
  },
  {
   "cell_type": "code",
   "execution_count": 6,
   "metadata": {
    "collapsed": true
   },
   "outputs": [],
   "source": [
    "def prepare_corpus(iob_sents):\n",
    "    result = []\n",
    "    for s in iob_sents:\n",
    "        tagged_sent = [(w,iob) for w, t, iob in s]\n",
    "        result.append(tagged_sent)\n",
    "    return result"
   ]
  },
  {
   "cell_type": "code",
   "execution_count": 7,
   "metadata": {
    "collapsed": false
   },
   "outputs": [],
   "source": [
    "train = prepare_corpus(conll2002.iob_sents('esp.train'))"
   ]
  },
  {
   "cell_type": "code",
   "execution_count": 8,
   "metadata": {
    "collapsed": false
   },
   "outputs": [],
   "source": [
    "test = prepare_corpus(conll2002.iob_sents('esp.testa'))"
   ]
  },
  {
   "cell_type": "code",
   "execution_count": 9,
   "metadata": {
    "collapsed": false
   },
   "outputs": [
    {
     "data": {
      "text/plain": [
       "[('Melbourne', 'B-LOC'),\n",
       " ('(', 'O'),\n",
       " ('Australia', 'B-LOC'),\n",
       " (')', 'O'),\n",
       " (',', 'O'),\n",
       " ('25', 'O'),\n",
       " ('may', 'O'),\n",
       " ('(', 'O'),\n",
       " ('EFE', 'B-ORG'),\n",
       " (')', 'O'),\n",
       " ('.', 'O')]"
      ]
     },
     "execution_count": 9,
     "metadata": {},
     "output_type": "execute_result"
    }
   ],
   "source": [
    "train[0]"
   ]
  },
  {
   "cell_type": "markdown",
   "metadata": {},
   "source": [
    "# Using a HMM"
   ]
  },
  {
   "cell_type": "code",
   "execution_count": 10,
   "metadata": {
    "collapsed": false
   },
   "outputs": [],
   "source": [
    "hmm = nltk.tag.HiddenMarkovModelTagger.train(train)"
   ]
  },
  {
   "cell_type": "code",
   "execution_count": 11,
   "metadata": {
    "collapsed": false
   },
   "outputs": [
    {
     "name": "stdout",
     "output_type": "stream",
     "text": [
      "accuracy over 52923 tokens: 91.64\n"
     ]
    }
   ],
   "source": [
    "hmm.test(test)"
   ]
  },
  {
   "cell_type": "markdown",
   "metadata": {},
   "source": [
    "# Compare with a baseline"
   ]
  },
  {
   "cell_type": "code",
   "execution_count": 12,
   "metadata": {
    "collapsed": true
   },
   "outputs": [],
   "source": [
    "import collections\n",
    "tagcounter = collections.Counter(iob for w, t, iob in conll2002.iob_words('esp.train'))"
   ]
  },
  {
   "cell_type": "code",
   "execution_count": 13,
   "metadata": {
    "collapsed": false
   },
   "outputs": [
    {
     "data": {
      "text/plain": [
       "[('O', 231920),\n",
       " ('B-ORG', 7390),\n",
       " ('I-ORG', 4992),\n",
       " ('B-LOC', 4913),\n",
       " ('B-PER', 4321),\n",
       " ('I-PER', 3903),\n",
       " ('I-MISC', 3212),\n",
       " ('B-MISC', 2173),\n",
       " ('I-LOC', 1891)]"
      ]
     },
     "execution_count": 13,
     "metadata": {},
     "output_type": "execute_result"
    }
   ],
   "source": [
    "tagcounter.most_common()"
   ]
  },
  {
   "cell_type": "code",
   "execution_count": 14,
   "metadata": {
    "collapsed": false
   },
   "outputs": [
    {
     "data": {
      "text/plain": [
       "0.8570186875271621"
      ]
     },
     "execution_count": 14,
     "metadata": {},
     "output_type": "execute_result"
    }
   ],
   "source": [
    "default = nltk.DefaultTagger('O')\n",
    "default.evaluate(test)"
   ]
  },
  {
   "cell_type": "markdown",
   "metadata": {},
   "source": [
    "# Compare with a unigram tagger"
   ]
  },
  {
   "cell_type": "code",
   "execution_count": 15,
   "metadata": {
    "collapsed": false
   },
   "outputs": [
    {
     "data": {
      "text/plain": [
       "0.8689038792207546"
      ]
     },
     "execution_count": 15,
     "metadata": {},
     "output_type": "execute_result"
    }
   ],
   "source": [
    "unitagger = nltk.UnigramTagger(train)\n",
    "unitagger.evaluate(test)"
   ]
  },
  {
   "cell_type": "code",
   "execution_count": 16,
   "metadata": {
    "collapsed": false
   },
   "outputs": [
    {
     "data": {
      "text/plain": [
       "0.918560928140884"
      ]
     },
     "execution_count": 16,
     "metadata": {},
     "output_type": "execute_result"
    }
   ],
   "source": [
    "unitagger2 = nltk.UnigramTagger(train,backoff=default)\n",
    "unitagger2.evaluate(test)"
   ]
  },
  {
   "cell_type": "markdown",
   "metadata": {
    "collapsed": true
   },
   "source": [
    "### Error Analysis"
   ]
  },
  {
   "cell_type": "code",
   "execution_count": 17,
   "metadata": {
    "collapsed": true
   },
   "outputs": [],
   "source": [
    "def confusion_matrix(true_tagged_sents, predicted_tagged_sents):\n",
    "    true_labels = [l for s in true_tagged_sents for w, l in s]\n",
    "    predicted_labels = [l for s in predicted_tagged_sents for w, l in s]\n",
    "    cm = nltk.ConfusionMatrix(true_labels, predicted_labels)\n",
    "    print(cm.key()) # Print all the labels\n",
    "    print(cm.pretty_format(sort_by_count=True, show_percents=True))"
   ]
  },
  {
   "cell_type": "code",
   "execution_count": 18,
   "metadata": {
    "collapsed": true
   },
   "outputs": [],
   "source": [
    "untagged_test = [nltk.untag(s) for s in test]"
   ]
  },
  {
   "cell_type": "code",
   "execution_count": 19,
   "metadata": {
    "collapsed": false
   },
   "outputs": [
    {
     "name": "stdout",
     "output_type": "stream",
     "text": [
      "Value key:\n",
      "  0: B-LOC\n",
      "  1: B-MISC\n",
      "  2: B-ORG\n",
      "  3: B-PER\n",
      "  4: I-LOC\n",
      "  5: I-MISC\n",
      "  6: I-ORG\n",
      "  7: I-PER\n",
      "  8: O\n",
      "\n",
      "       |                                                I      B        |\n",
      "       |             B      I      B      B      I      -      -      I |\n",
      "       |             -      -      -      -      -      M      M      - |\n",
      "       |             O      O      P      L      P      I      I      L |\n",
      "       |             R      R      E      O      E      S      S      O |\n",
      "       |      O      G      G      R      C      R      C      C      C |\n",
      "-------+----------------------------------------------------------------+\n",
      "     O | <85.5%>  0.0%   0.0%   0.0%   0.0%   0.0%   0.1%   0.0%   0.0% |\n",
      " B-ORG |   0.8%  <1.9%>  0.0%   0.0%   0.3%   0.0%   0.0%   0.1%   0.0% |\n",
      " I-ORG |   1.3%   0.2%  <0.6%>  0.0%   0.3%   0.0%   0.1%   0.1%   0.0% |\n",
      " B-PER |   0.9%   0.0%   0.0%  <1.0%>  0.0%   0.3%   0.0%      .   0.0% |\n",
      " B-LOC |   0.2%   0.1%   0.0%   0.0%  <1.5%>  0.0%   0.0%   0.0%   0.0% |\n",
      " I-PER |   0.8%   0.0%   0.0%   0.2%   0.0%  <0.5%>  0.0%   0.0%   0.0% |\n",
      "I-MISC |   0.7%   0.0%   0.1%   0.0%   0.1%   0.0%  <0.2%>  0.1%   0.0% |\n",
      "B-MISC |   0.3%   0.0%   0.0%   0.0%   0.0%   0.0%   0.0%  <0.3%>  0.0% |\n",
      " I-LOC |   0.2%   0.0%   0.1%   0.0%   0.0%   0.0%   0.0%   0.0%  <0.2%>|\n",
      "-------+----------------------------------------------------------------+\n",
      "(row = reference; col = test)\n",
      "\n"
     ]
    }
   ],
   "source": [
    "confusion_matrix(test, [unitagger2.tag(s) for s in untagged_test])"
   ]
  },
  {
   "cell_type": "markdown",
   "metadata": {},
   "source": [
    "The largest cause of errors seems to be the presence of unknown names of organisations and persons."
   ]
  },
  {
   "cell_type": "code",
   "execution_count": null,
   "metadata": {
    "collapsed": true
   },
   "outputs": [],
   "source": []
  }
 ],
 "metadata": {
  "kernelspec": {
   "display_name": "Python 3",
   "language": "python",
   "name": "python3"
  },
  "language_info": {
   "codemirror_mode": {
    "name": "ipython",
    "version": 3
   },
   "file_extension": ".py",
   "mimetype": "text/x-python",
   "name": "python",
   "nbconvert_exporter": "python",
   "pygments_lexer": "ipython3",
   "version": "3.6.0"
  }
 },
 "nbformat": 4,
 "nbformat_minor": 0
}
